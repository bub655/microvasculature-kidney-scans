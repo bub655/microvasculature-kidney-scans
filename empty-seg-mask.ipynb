{
 "cells": [
  {
   "cell_type": "code",
   "execution_count": 1,
   "id": "02896dae",
   "metadata": {
    "execution": {
     "iopub.execute_input": "2024-03-05T02:31:55.767191Z",
     "iopub.status.busy": "2024-03-05T02:31:55.766878Z",
     "iopub.status.idle": "2024-03-05T02:31:58.649641Z",
     "shell.execute_reply": "2024-03-05T02:31:58.648677Z"
    },
    "papermill": {
     "duration": 2.890523,
     "end_time": "2024-03-05T02:31:58.651890",
     "exception": false,
     "start_time": "2024-03-05T02:31:55.761367",
     "status": "completed"
    },
    "tags": []
   },
   "outputs": [
    {
     "name": "stdout",
     "output_type": "stream",
     "text": [
      "connected_components_3d-3.12.4-cp310-cp310-linux_x86_64.whl\r\n"
     ]
    }
   ],
   "source": [
    "!mkdir -p /tmp/pip/cache/\n",
    "!cp /kaggle/input/sennet-hoa-pkgs/connected_components_3d-3.12.4-cp310-cp310-linux_x86_64.whl /tmp/pip/cache/\n",
    "!ls /tmp/pip/cache/"
   ]
  },
  {
   "cell_type": "code",
   "execution_count": 2,
   "id": "9805939d",
   "metadata": {
    "_kg_hide-output": true,
    "execution": {
     "iopub.execute_input": "2024-03-05T02:31:58.663124Z",
     "iopub.status.busy": "2024-03-05T02:31:58.662808Z",
     "iopub.status.idle": "2024-03-05T02:32:12.197943Z",
     "shell.execute_reply": "2024-03-05T02:32:12.197000Z"
    },
    "papermill": {
     "duration": 13.543415,
     "end_time": "2024-03-05T02:32:12.200338",
     "exception": false,
     "start_time": "2024-03-05T02:31:58.656923",
     "status": "completed"
    },
    "tags": []
   },
   "outputs": [
    {
     "name": "stdout",
     "output_type": "stream",
     "text": [
      "Looking in links: /tmp/pip/cache/\r\n",
      "Processing /tmp/pip/cache/connected_components_3d-3.12.4-cp310-cp310-linux_x86_64.whl\r\n",
      "Requirement already satisfied: numpy in /opt/conda/lib/python3.10/site-packages (from connected-components-3d) (1.26.4)\r\n",
      "Installing collected packages: connected-components-3d\r\n",
      "Successfully installed connected-components-3d-3.12.4\r\n"
     ]
    }
   ],
   "source": [
    "!pip install --no-index --find-links /tmp/pip/cache/ connected-components-3d"
   ]
  },
  {
   "cell_type": "code",
   "execution_count": null,
   "id": "5a24aef0",
   "metadata": {
    "_cell_guid": "b1076dfc-b9ad-4769-8c92-a6c4dae69d19",
    "_uuid": "8f2839f25d086af736a60e9eeb907d3b93b6e0e5",
    "execution": {
     "iopub.execute_input": "2024-03-05T02:32:12.222279Z",
     "iopub.status.busy": "2024-03-05T02:32:12.221958Z",
     "iopub.status.idle": "2024-03-05T02:32:17.105318Z",
     "shell.execute_reply": "2024-03-05T02:32:17.104408Z"
    },
    "papermill": {
     "duration": 4.891609,
     "end_time": "2024-03-05T02:32:17.107396",
     "exception": false,
     "start_time": "2024-03-05T02:32:12.215787",
     "status": "completed"
    },
    "tags": []
   },
   "outputs": [],
   "source": [
    "import cc3d\n",
    "\n",
    "import sys, os\n",
    "# for model, ckpt and helper code\n",
    "sys.path.append('/kaggle/input/blood-vessel-segmentation-01')\n",
    "\n",
    "from helper import *\n",
    "\n",
    "import cv2\n",
    "import pandas as pd\n",
    "from glob import glob\n",
    "import numpy as np\n",
    "from skimage.filters import apply_hysteresis_threshold\n",
    "\n",
    "from timeit import default_timer as timer\n",
    "import gc\n",
    "\n",
    "import torch\n",
    "import torch.nn as nn\n",
    "import torch.nn.functional as F\n",
    "\n",
    "import matplotlib\n",
    "import matplotlib.pyplot as plt\n"
   ]
  },
  {
   "cell_type": "code",
   "execution_count": 4,
   "id": "501d9842",
   "metadata": {
    "execution": {
     "iopub.execute_input": "2024-03-05T02:32:17.129459Z",
     "iopub.status.busy": "2024-03-05T02:32:17.128998Z",
     "iopub.status.idle": "2024-03-05T02:32:17.133688Z",
     "shell.execute_reply": "2024-03-05T02:32:17.132863Z"
    },
    "papermill": {
     "duration": 0.01265,
     "end_time": "2024-03-05T02:32:17.135651",
     "exception": false,
     "start_time": "2024-03-05T02:32:17.123001",
     "status": "completed"
    },
    "tags": []
   },
   "outputs": [],
   "source": [
    "# for cc3d.dust \n",
    "cfg = dotdict( \n",
    "    p_threshold=0.29, # best prediction probability threshold \n",
    "    cc_connectivity=6, # 6 best connected neighborhood  N.B. only 4,8 (2D) and 26, 18, and 6 (3D) are allowed\n",
    "    cc_threshold=6552, # 6552 best  or options from 6474 - 6630 \n",
    "    use_tta=True, \n",
    ")"
   ]
  },
  {
   "cell_type": "code",
   "execution_count": 5,
   "id": "9ab91a48",
   "metadata": {
    "execution": {
     "iopub.execute_input": "2024-03-05T02:32:17.158050Z",
     "iopub.status.busy": "2024-03-05T02:32:17.157727Z",
     "iopub.status.idle": "2024-03-05T02:32:17.187986Z",
     "shell.execute_reply": "2024-03-05T02:32:17.186974Z"
    },
    "papermill": {
     "duration": 0.038593,
     "end_time": "2024-03-05T02:32:17.190027",
     "exception": false,
     "start_time": "2024-03-05T02:32:17.151434",
     "status": "completed"
    },
    "tags": []
   },
   "outputs": [
    {
     "name": "stdout",
     "output_type": "stream",
     "text": [
      "kidney_5 \n",
      " ['/kaggle/input/blood-vessel-segmentation/test/kidney_5/images/0000.tif', '/kaggle/input/blood-vessel-segmentation/test/kidney_5/images/0001.tif', '/kaggle/input/blood-vessel-segmentation/test/kidney_5/images/0002.tif']\n",
      "MODE OK  !!!!\n"
     ]
    }
   ],
   "source": [
    "data_dir = \\\n",
    "    '/kaggle/input/blood-vessel-segmentation' \n",
    "DATA_META = {\n",
    "\t'kidney_1_dense': dotdict(\n",
    "\t\tname='kidney_1_dense',\n",
    "\t\timage_no=(1000, 1000 + 1000),\n",
    "\t\timage_dir=f'{data_dir}/train'\n",
    "\t),\n",
    "\t'kidney_3_dense': dotdict(\n",
    "\t\tname='kidney_3_dense',\n",
    "\t\timage_no=(496, 996 + 1),\n",
    "\t\timage_dir=f'{data_dir}/train'\n",
    "\t),\n",
    "\t'kidney_5': dotdict(\n",
    "\t\tname='kidney_5',\n",
    "\t\timage_no=None,\n",
    "\t\timage_dir=f'{data_dir}/test'\n",
    "\t),\n",
    "\t'kidney_6': dotdict(\n",
    "\t\tname='kidney_6',\n",
    "\t\timage_no=None,\n",
    "\t\timage_dir=f'{data_dir}/test'\n",
    "\t),\n",
    "}\n",
    "\n",
    "\n",
    "mode = 'submit' #'local' \n",
    "\n",
    "if 'local' in mode:\t\n",
    "\tvalid_meta = [DATA_META['kidney_3_dense'], ]\n",
    "if 'submit' in mode:\n",
    "\tvalid_meta = [DATA_META['kidney_5'], DATA_META['kidney_6']]\n",
    "\n",
    "\n",
    "## io input, etc function\n",
    "def build_file_list(d):\n",
    "\tif d.image_no is not None:\n",
    "\t\td.file = [f'{d.image_dir}/{d.name.replace(\"kidney_3_dense\",\"kidney_3_sparse\")}/images/{i:04d}.tif' for i in range(*d.image_no)]\n",
    "\telse:\n",
    "\t\td.file = sorted(glob(f'{d.image_dir}/{d.name}/images/*.tif'))\n",
    "\n",
    "\n",
    "for d in valid_meta:\n",
    "\tbuild_file_list(d)\n",
    "print(valid_meta[0].name, '\\n', valid_meta[0].file[:5]) \n",
    "print('MODE OK  !!!!')"
   ]
  },
  {
   "cell_type": "code",
   "execution_count": 6,
   "id": "7b471664",
   "metadata": {
    "execution": {
     "iopub.execute_input": "2024-03-05T02:32:17.213680Z",
     "iopub.status.busy": "2024-03-05T02:32:17.213315Z",
     "iopub.status.idle": "2024-03-05T02:32:17.226716Z",
     "shell.execute_reply": "2024-03-05T02:32:17.225624Z"
    },
    "papermill": {
     "duration": 0.022003,
     "end_time": "2024-03-05T02:32:17.228665",
     "exception": false,
     "start_time": "2024-03-05T02:32:17.206662",
     "status": "completed"
    },
    "tags": []
   },
   "outputs": [
    {
     "name": "stdout",
     "output_type": "stream",
     "text": [
      "DATASET OK  !!!!\n"
     ]
    }
   ],
   "source": [
    "def file_to_id(f):\n",
    "\ts = f.split('/')\n",
    "\treturn s[-3] + '_' + s[-1][:-4]\n",
    "\n",
    "\n",
    "def load_volume(d):\n",
    "\tvolume = [\n",
    "\t\tcv2.imread(f, cv2.IMREAD_UNCHANGED) for f in d.file\n",
    "\t]\n",
    "\tvolume = np.stack(volume)\n",
    "\treturn volume\n",
    "\n",
    "\n",
    "def load_truth(d):\n",
    "\ttruth = [\n",
    "\t\tcv2.imread(f.replace('/images/', '/labels/'), cv2.IMREAD_GRAYSCALE) for f in d.file\n",
    "\t]\n",
    "\ttruth = np.stack(truth)\n",
    "\ttruth = truth // 255\n",
    "\treturn truth\n",
    "\n",
    "\n",
    "def norm_by_percentile(x, low=10, high=99.8, alpha=0.01):\n",
    "\txmin = np.percentile(x, low)\n",
    "\txmax = np.percentile(x, high)\n",
    "\tx = (x - xmin) / (xmax - xmin)\n",
    "\tif 1:\n",
    "\t\tx[x > 1] = (x[x > 1] - 1) * alpha + 1\n",
    "\t\tx[x < 0] = (x[x < 0]) * alpha\n",
    "\t# x = np.clip(x,0,1)\n",
    "\treturn x\n",
    "\n",
    "\n",
    "def rle_encode(mask):\n",
    "\tpixel = mask.flatten()\n",
    "\tpixel = np.concatenate([[0], pixel, [0]])\n",
    "\trun = np.where(pixel[1:] != pixel[:-1])[0] + 1\n",
    "\trun[1::2] -= run[::2]\n",
    "\trle = ' '.join(str(r) for r in run)\n",
    "\tif rle == '':\n",
    "\t\trle = '1 0'\n",
    "\treturn rle\n",
    "\n",
    "\n",
    "def make_dummy_submission():\n",
    "    segmentation_df = []\n",
    "    for d in valid_meta:\n",
    "        segmentation_df.append(\n",
    "            pd.DataFrame(data={\n",
    "                'id': [file_to_id(f) for f in d.file],\n",
    "                'rle': ['1 0'] * len(d.file),\n",
    "            })\n",
    "        )\n",
    "    segmentation_df = pd.concat(segmentation_df).reset_index(drop=True)\n",
    "    segmentation_df.to_csv('segmentations.csv', index=False)\n",
    "    return segmentation_df\n",
    "\n",
    "\n",
    "\n",
    "print('DATASET OK  !!!!')"
   ]
  },
  {
   "cell_type": "code",
   "execution_count": 7,
   "id": "eca4ddab",
   "metadata": {
    "execution": {
     "iopub.execute_input": "2024-03-05T02:32:17.252357Z",
     "iopub.status.busy": "2024-03-05T02:32:17.251134Z",
     "iopub.status.idle": "2024-03-05T02:32:31.495625Z",
     "shell.execute_reply": "2024-03-05T02:32:31.494638Z"
    },
    "papermill": {
     "duration": 14.253266,
     "end_time": "2024-03-05T02:32:31.497883",
     "exception": false,
     "start_time": "2024-03-05T02:32:17.244617",
     "status": "completed"
    },
    "tags": []
   },
   "outputs": [
    {
     "name": "stdout",
     "output_type": "stream",
     "text": [
      "timm 0.9.16\n",
      "<All keys matched successfully>\n",
      "              id  rle\n",
      "0  kidney_5_0000  1 0\n",
      "1  kidney_5_0001  1 0\n",
      "2  kidney_5_0002  1 0\n",
      "3  kidney_6_0000  1 0\n",
      "4  kidney_6_0001  1 0\n",
      "5  kidney_6_0002  1 0\n",
      "SUBMIT OK!!!\n"
     ]
    }
   ],
   "source": [
    "glob_file = glob(f'{data_dir}/test/kidney_5/images/*.tif')\n",
    "segmentation_df = make_dummy_submission()\n",
    "print(segmentation_df)"
   ]
  },
  {
   "cell_type": "code",
   "execution_count": 8,
   "id": "b237a5f9",
   "metadata": {
    "execution": {
     "iopub.execute_input": "2024-03-05T02:32:31.522756Z",
     "iopub.status.busy": "2024-03-05T02:32:31.522085Z",
     "iopub.status.idle": "2024-03-05T02:32:31.531141Z",
     "shell.execute_reply": "2024-03-05T02:32:31.530286Z"
    },
    "papermill": {
     "duration": 0.017548,
     "end_time": "2024-03-05T02:32:31.533100",
     "exception": false,
     "start_time": "2024-03-05T02:32:31.515552",
     "status": "completed"
    },
    "tags": []
   },
   "outputs": [],
   "source": [
    "#debug\n",
    "if (mode == 'local'):\n",
    "    for d in valid_meta: \n",
    "        print(d.name)\n",
    "\n",
    "        print('load_truth truth ...')\n",
    "        truth = load_truth(d)\n",
    "        prob  = np.load(f'prob.xyz{d.name}.npz')['prob']/255\n",
    "\n",
    "        for th in [0.5, 0.4, 0.3, 0.2 ]:\n",
    "            predict = (prob > th)\n",
    "\n",
    "            hit, fp, t_sum, p_sum = np_hit_fp_metric(predict, truth)\n",
    "            lb_score = fast_compute_surface_dice_score_from_tensor(predict, truth)\n",
    "\n",
    "            print(checkpoint_file)\n",
    "            print('th=',th)\n",
    "            print('hit      :', hit / t_sum)\n",
    "            print('fp       :', fp / p_sum)\n",
    "            print('lb_score :', lb_score)\n",
    "            print('')\n",
    "            \n",
    "            # post processing ---\n",
    "            if cfg.cc_threshold > 0:\n",
    "                predict = cc3d.dust(\n",
    "                    predict,\n",
    "                    connectivity=26,\n",
    "                    threshold=cfg.cc_threshold,\n",
    "                    in_place=False\n",
    "                    )\n",
    "                print('after cc3d.dust')\n",
    "                hit, fp, t_sum, p_sum = np_hit_fp_metric(predict, truth)\n",
    "                lb_score = fast_compute_surface_dice_score_from_tensor(predict, truth)\n",
    "                print('hit      :', hit / t_sum)\n",
    "                print('fp       :', fp / p_sum)\n",
    "                print('lb_score :', lb_score)\n",
    "                print('')\n"
   ]
  }
 ],
 "metadata": {
  "kaggle": {
   "accelerator": "gpu",
   "dataSources": [
    {
     "databundleVersionId": 6962461,
     "sourceId": 61446,
     "sourceType": "competition"
    },
    {
     "datasetId": 4152203,
     "sourceId": 7183197,
     "sourceType": "datasetVersion"
    },
    {
     "sourceId": 155342803,
     "sourceType": "kernelVersion"
    }
   ],
   "isGpuEnabled": true,
   "isInternetEnabled": false,
   "language": "python",
   "sourceType": "notebook"
  },
  "kernelspec": {
   "display_name": "Python 3",
   "language": "python",
   "name": "python3"
  },
  "language_info": {
   "codemirror_mode": {
    "name": "ipython",
    "version": 3
   },
   "file_extension": ".py",
   "mimetype": "text/x-python",
   "name": "python",
   "nbconvert_exporter": "python",
   "pygments_lexer": "ipython3",
   "version": "3.10.13"
  },
  "papermill": {
   "default_parameters": {},
   "duration": 41.198215,
   "end_time": "2024-03-05T02:32:34.130700",
   "environment_variables": {},
   "exception": null,
   "input_path": "__notebook__.ipynb",
   "output_path": "__notebook__.ipynb",
   "parameters": {},
   "start_time": "2024-03-05T02:31:52.932485",
   "version": "2.5.0"
  }
 },
 "nbformat": 4,
 "nbformat_minor": 5
}
