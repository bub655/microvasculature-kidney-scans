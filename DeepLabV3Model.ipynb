{
 "cells": [
  {
   "cell_type": "code",
   "execution_count": 1,
   "metadata": {},
   "outputs": [
    {
     "name": "stdout",
     "output_type": "stream",
     "text": [
      "Requirement already satisfied: keras-cv in /Users/anavbo/anaconda3/lib/python3.11/site-packages (0.8.2)\n",
      "Requirement already satisfied: tensorflow in /Users/anavbo/anaconda3/lib/python3.11/site-packages (2.15.0)\n",
      "Requirement already satisfied: packaging in /Users/anavbo/anaconda3/lib/python3.11/site-packages (from keras-cv) (23.1)\n",
      "Requirement already satisfied: absl-py in /Users/anavbo/anaconda3/lib/python3.11/site-packages (from keras-cv) (1.4.0)\n",
      "Requirement already satisfied: regex in /Users/anavbo/anaconda3/lib/python3.11/site-packages (from keras-cv) (2022.7.9)\n",
      "Requirement already satisfied: tensorflow-datasets in /Users/anavbo/anaconda3/lib/python3.11/site-packages (from keras-cv) (4.9.4)\n",
      "Requirement already satisfied: keras-core in /Users/anavbo/anaconda3/lib/python3.11/site-packages (from keras-cv) (0.1.7)\n",
      "Requirement already satisfied: kagglehub in /Users/anavbo/anaconda3/lib/python3.11/site-packages (from keras-cv) (0.2.0)\n",
      "Requirement already satisfied: tensorflow-macos==2.15.0 in /Users/anavbo/anaconda3/lib/python3.11/site-packages (from tensorflow) (2.15.0)\n",
      "Requirement already satisfied: astunparse>=1.6.0 in /Users/anavbo/anaconda3/lib/python3.11/site-packages (from tensorflow-macos==2.15.0->tensorflow) (1.6.3)\n",
      "Requirement already satisfied: flatbuffers>=23.5.26 in /Users/anavbo/anaconda3/lib/python3.11/site-packages (from tensorflow-macos==2.15.0->tensorflow) (23.5.26)\n",
      "Requirement already satisfied: gast!=0.5.0,!=0.5.1,!=0.5.2,>=0.2.1 in /Users/anavbo/anaconda3/lib/python3.11/site-packages (from tensorflow-macos==2.15.0->tensorflow) (0.5.4)\n",
      "Requirement already satisfied: google-pasta>=0.1.1 in /Users/anavbo/anaconda3/lib/python3.11/site-packages (from tensorflow-macos==2.15.0->tensorflow) (0.2.0)\n",
      "Requirement already satisfied: h5py>=2.9.0 in /Users/anavbo/anaconda3/lib/python3.11/site-packages (from tensorflow-macos==2.15.0->tensorflow) (3.9.0)\n",
      "Requirement already satisfied: libclang>=13.0.0 in /Users/anavbo/anaconda3/lib/python3.11/site-packages (from tensorflow-macos==2.15.0->tensorflow) (16.0.6)\n",
      "Requirement already satisfied: ml-dtypes~=0.2.0 in /Users/anavbo/anaconda3/lib/python3.11/site-packages (from tensorflow-macos==2.15.0->tensorflow) (0.2.0)\n",
      "Requirement already satisfied: numpy<2.0.0,>=1.23.5 in /Users/anavbo/anaconda3/lib/python3.11/site-packages (from tensorflow-macos==2.15.0->tensorflow) (1.24.3)\n",
      "Requirement already satisfied: opt-einsum>=2.3.2 in /Users/anavbo/anaconda3/lib/python3.11/site-packages (from tensorflow-macos==2.15.0->tensorflow) (3.3.0)\n",
      "Requirement already satisfied: protobuf!=4.21.0,!=4.21.1,!=4.21.2,!=4.21.3,!=4.21.4,!=4.21.5,<5.0.0dev,>=3.20.3 in /Users/anavbo/anaconda3/lib/python3.11/site-packages (from tensorflow-macos==2.15.0->tensorflow) (3.20.3)\n",
      "Requirement already satisfied: setuptools in /Users/anavbo/anaconda3/lib/python3.11/site-packages (from tensorflow-macos==2.15.0->tensorflow) (68.0.0)\n",
      "Requirement already satisfied: six>=1.12.0 in /Users/anavbo/anaconda3/lib/python3.11/site-packages (from tensorflow-macos==2.15.0->tensorflow) (1.16.0)\n",
      "Requirement already satisfied: termcolor>=1.1.0 in /Users/anavbo/anaconda3/lib/python3.11/site-packages (from tensorflow-macos==2.15.0->tensorflow) (2.4.0)\n",
      "Requirement already satisfied: typing-extensions>=3.6.6 in /Users/anavbo/anaconda3/lib/python3.11/site-packages (from tensorflow-macos==2.15.0->tensorflow) (4.7.1)\n",
      "Requirement already satisfied: wrapt<1.15,>=1.11.0 in /Users/anavbo/anaconda3/lib/python3.11/site-packages (from tensorflow-macos==2.15.0->tensorflow) (1.14.1)\n",
      "Requirement already satisfied: tensorflow-io-gcs-filesystem>=0.23.1 in /Users/anavbo/anaconda3/lib/python3.11/site-packages (from tensorflow-macos==2.15.0->tensorflow) (0.36.0)\n",
      "Requirement already satisfied: grpcio<2.0,>=1.24.3 in /Users/anavbo/anaconda3/lib/python3.11/site-packages (from tensorflow-macos==2.15.0->tensorflow) (1.62.0)\n",
      "Requirement already satisfied: tensorboard<2.16,>=2.15 in /Users/anavbo/anaconda3/lib/python3.11/site-packages (from tensorflow-macos==2.15.0->tensorflow) (2.15.2)\n",
      "Requirement already satisfied: tensorflow-estimator<2.16,>=2.15.0 in /Users/anavbo/anaconda3/lib/python3.11/site-packages (from tensorflow-macos==2.15.0->tensorflow) (2.15.0)\n",
      "Requirement already satisfied: keras<2.16,>=2.15.0 in /Users/anavbo/anaconda3/lib/python3.11/site-packages (from tensorflow-macos==2.15.0->tensorflow) (2.15.0)\n",
      "Requirement already satisfied: requests in /Users/anavbo/anaconda3/lib/python3.11/site-packages (from kagglehub->keras-cv) (2.31.0)\n",
      "Requirement already satisfied: tqdm in /Users/anavbo/anaconda3/lib/python3.11/site-packages (from kagglehub->keras-cv) (4.65.0)\n",
      "Requirement already satisfied: rich in /Users/anavbo/anaconda3/lib/python3.11/site-packages (from keras-core->keras-cv) (13.7.0)\n",
      "Requirement already satisfied: namex in /Users/anavbo/anaconda3/lib/python3.11/site-packages (from keras-core->keras-cv) (0.0.7)\n",
      "Requirement already satisfied: dm-tree in /Users/anavbo/anaconda3/lib/python3.11/site-packages (from keras-core->keras-cv) (0.1.8)\n",
      "Requirement already satisfied: click in /Users/anavbo/anaconda3/lib/python3.11/site-packages (from tensorflow-datasets->keras-cv) (8.0.4)\n",
      "Requirement already satisfied: etils[enp,epath,etree]>=0.9.0 in /Users/anavbo/anaconda3/lib/python3.11/site-packages (from tensorflow-datasets->keras-cv) (1.7.0)\n",
      "Requirement already satisfied: promise in /Users/anavbo/anaconda3/lib/python3.11/site-packages (from tensorflow-datasets->keras-cv) (2.3)\n",
      "Requirement already satisfied: psutil in /Users/anavbo/anaconda3/lib/python3.11/site-packages (from tensorflow-datasets->keras-cv) (5.9.0)\n",
      "Requirement already satisfied: tensorflow-metadata in /Users/anavbo/anaconda3/lib/python3.11/site-packages (from tensorflow-datasets->keras-cv) (1.14.0)\n",
      "Requirement already satisfied: toml in /Users/anavbo/anaconda3/lib/python3.11/site-packages (from tensorflow-datasets->keras-cv) (0.10.2)\n",
      "Requirement already satisfied: wheel<1.0,>=0.23.0 in /Users/anavbo/anaconda3/lib/python3.11/site-packages (from astunparse>=1.6.0->tensorflow-macos==2.15.0->tensorflow) (0.38.4)\n",
      "Requirement already satisfied: fsspec in /Users/anavbo/anaconda3/lib/python3.11/site-packages (from etils[enp,epath,etree]>=0.9.0->tensorflow-datasets->keras-cv) (2023.4.0)\n",
      "Requirement already satisfied: importlib_resources in /Users/anavbo/anaconda3/lib/python3.11/site-packages (from etils[enp,epath,etree]>=0.9.0->tensorflow-datasets->keras-cv) (6.1.2)\n",
      "Requirement already satisfied: zipp in /Users/anavbo/anaconda3/lib/python3.11/site-packages (from etils[enp,epath,etree]>=0.9.0->tensorflow-datasets->keras-cv) (3.11.0)\n",
      "Requirement already satisfied: charset-normalizer<4,>=2 in /Users/anavbo/anaconda3/lib/python3.11/site-packages (from requests->kagglehub->keras-cv) (2.0.4)\n",
      "Requirement already satisfied: idna<4,>=2.5 in /Users/anavbo/anaconda3/lib/python3.11/site-packages (from requests->kagglehub->keras-cv) (3.4)\n",
      "Requirement already satisfied: urllib3<3,>=1.21.1 in /Users/anavbo/anaconda3/lib/python3.11/site-packages (from requests->kagglehub->keras-cv) (1.26.16)\n",
      "Requirement already satisfied: certifi>=2017.4.17 in /Users/anavbo/anaconda3/lib/python3.11/site-packages (from requests->kagglehub->keras-cv) (2024.2.2)\n",
      "Requirement already satisfied: google-auth<3,>=1.6.3 in /Users/anavbo/anaconda3/lib/python3.11/site-packages (from tensorboard<2.16,>=2.15->tensorflow-macos==2.15.0->tensorflow) (2.28.1)\n",
      "Requirement already satisfied: google-auth-oauthlib<2,>=0.5 in /Users/anavbo/anaconda3/lib/python3.11/site-packages (from tensorboard<2.16,>=2.15->tensorflow-macos==2.15.0->tensorflow) (1.2.0)\n",
      "Requirement already satisfied: markdown>=2.6.8 in /Users/anavbo/anaconda3/lib/python3.11/site-packages (from tensorboard<2.16,>=2.15->tensorflow-macos==2.15.0->tensorflow) (3.4.1)\n",
      "Requirement already satisfied: tensorboard-data-server<0.8.0,>=0.7.0 in /Users/anavbo/anaconda3/lib/python3.11/site-packages (from tensorboard<2.16,>=2.15->tensorflow-macos==2.15.0->tensorflow) (0.7.2)\n",
      "Requirement already satisfied: werkzeug>=1.0.1 in /Users/anavbo/anaconda3/lib/python3.11/site-packages (from tensorboard<2.16,>=2.15->tensorflow-macos==2.15.0->tensorflow) (2.2.3)\n",
      "Requirement already satisfied: markdown-it-py>=2.2.0 in /Users/anavbo/anaconda3/lib/python3.11/site-packages (from rich->keras-core->keras-cv) (2.2.0)\n",
      "Requirement already satisfied: pygments<3.0.0,>=2.13.0 in /Users/anavbo/anaconda3/lib/python3.11/site-packages (from rich->keras-core->keras-cv) (2.15.1)\n",
      "Requirement already satisfied: googleapis-common-protos<2,>=1.52.0 in /Users/anavbo/anaconda3/lib/python3.11/site-packages (from tensorflow-metadata->tensorflow-datasets->keras-cv) (1.62.0)\n",
      "Requirement already satisfied: cachetools<6.0,>=2.0.0 in /Users/anavbo/anaconda3/lib/python3.11/site-packages (from google-auth<3,>=1.6.3->tensorboard<2.16,>=2.15->tensorflow-macos==2.15.0->tensorflow) (5.3.2)\n",
      "Requirement already satisfied: pyasn1-modules>=0.2.1 in /Users/anavbo/anaconda3/lib/python3.11/site-packages (from google-auth<3,>=1.6.3->tensorboard<2.16,>=2.15->tensorflow-macos==2.15.0->tensorflow) (0.2.8)\n",
      "Requirement already satisfied: rsa<5,>=3.1.4 in /Users/anavbo/anaconda3/lib/python3.11/site-packages (from google-auth<3,>=1.6.3->tensorboard<2.16,>=2.15->tensorflow-macos==2.15.0->tensorflow) (4.9)\n",
      "Requirement already satisfied: requests-oauthlib>=0.7.0 in /Users/anavbo/anaconda3/lib/python3.11/site-packages (from google-auth-oauthlib<2,>=0.5->tensorboard<2.16,>=2.15->tensorflow-macos==2.15.0->tensorflow) (1.3.1)\n",
      "Requirement already satisfied: mdurl~=0.1 in /Users/anavbo/anaconda3/lib/python3.11/site-packages (from markdown-it-py>=2.2.0->rich->keras-core->keras-cv) (0.1.0)\n",
      "Requirement already satisfied: MarkupSafe>=2.1.1 in /Users/anavbo/anaconda3/lib/python3.11/site-packages (from werkzeug>=1.0.1->tensorboard<2.16,>=2.15->tensorflow-macos==2.15.0->tensorflow) (2.1.1)\n",
      "Requirement already satisfied: pyasn1<0.5.0,>=0.4.6 in /Users/anavbo/anaconda3/lib/python3.11/site-packages (from pyasn1-modules>=0.2.1->google-auth<3,>=1.6.3->tensorboard<2.16,>=2.15->tensorflow-macos==2.15.0->tensorflow) (0.4.8)\n",
      "Requirement already satisfied: oauthlib>=3.0.0 in /Users/anavbo/anaconda3/lib/python3.11/site-packages (from requests-oauthlib>=0.7.0->google-auth-oauthlib<2,>=0.5->tensorboard<2.16,>=2.15->tensorflow-macos==2.15.0->tensorflow) (3.2.2)\n",
      "Note: you may need to restart the kernel to use updated packages.\n",
      "Note: you may need to restart the kernel to use updated packages.\n"
     ]
    }
   ],
   "source": [
    "%pip install --upgrade keras-cv tensorflow\n",
    "%pip install -q --upgrade tensorflow-io\n"
   ]
  },
  {
   "cell_type": "code",
   "execution_count": 2,
   "metadata": {},
   "outputs": [
    {
     "name": "stdout",
     "output_type": "stream",
     "text": [
      "Using TensorFlow backend\n"
     ]
    }
   ],
   "source": [
    "import os\n",
    "\n",
    "os.environ[\"KERAS_BACKEND\"] = \"tensorflow\"  # you can also use tensorflow or torch\n",
    "\n",
    "import keras\n",
    "import keras_cv\n",
    "import tensorflow as tf  # only for data\n",
    "import tensorflow_io as tfio  # for loading .tif files\n",
    "\n",
    "# import cv2\n",
    "import pandas as pd\n",
    "import numpy as np\n",
    "from glob import glob\n",
    "from tqdm.notebook import tqdm\n",
    "\n",
    "import matplotlib.pyplot as plt"
   ]
  },
  {
   "cell_type": "code",
   "execution_count": 3,
   "metadata": {},
   "outputs": [
    {
     "name": "stdout",
     "output_type": "stream",
     "text": [
      "TensorFlow: 2.15.0\n",
      "Keras: 2.15.0\n",
      "KerasCV: 0.8.2\n"
     ]
    }
   ],
   "source": [
    "print(\"TensorFlow:\", tf.__version__)\n",
    "print(\"Keras:\", keras.__version__)\n",
    "print(\"KerasCV:\", keras_cv.__version__)"
   ]
  },
  {
   "cell_type": "code",
   "execution_count": null,
   "metadata": {},
   "outputs": [],
   "source": []
  }
 ],
 "metadata": {
  "kernelspec": {
   "display_name": "base",
   "language": "python",
   "name": "python3"
  },
  "language_info": {
   "codemirror_mode": {
    "name": "ipython",
    "version": 3
   },
   "file_extension": ".py",
   "mimetype": "text/x-python",
   "name": "python",
   "nbconvert_exporter": "python",
   "pygments_lexer": "ipython3",
   "version": "3.11.5"
  }
 },
 "nbformat": 4,
 "nbformat_minor": 2
}
